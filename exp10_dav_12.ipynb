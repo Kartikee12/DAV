{
  "nbformat": 4,
  "nbformat_minor": 0,
  "metadata": {
    "colab": {
      "provenance": [],
      "authorship_tag": "ABX9TyN+BBY+px0d0efPEnLeX1WS",
      "include_colab_link": true
    },
    "kernelspec": {
      "name": "python3",
      "display_name": "Python 3"
    },
    "language_info": {
      "name": "python"
    }
  },
  "cells": [
    {
      "cell_type": "markdown",
      "metadata": {
        "id": "view-in-github",
        "colab_type": "text"
      },
      "source": [
        "<a href=\"https://colab.research.google.com/github/Kartikee12/DAV/blob/main/exp10_dav_12.ipynb\" target=\"_parent\"><img src=\"https://colab.research.google.com/assets/colab-badge.svg\" alt=\"Open In Colab\"/></a>"
      ]
    },
    {
      "cell_type": "markdown",
      "source": [
        "**Aim :** Event Handling with D3.js\n",
        "\n",
        "**Theory :**\n",
        "\n",
        "**Event Propagation and Handling Multiple Events**\n",
        "\n",
        "\n",
        "\n",
        "*   **Propagation:** Events in D3.js follow the DOM event propagation model, which includes capturing and bubbling phases. You can control event propagation using .stopPropagation() to prevent events from bubbling up the DOM tree.\n",
        "\n",
        "*   **Multiple Events:** You can bind multiple events to the same element or handle multiple events within the same callback function by using conditional logic based on the event type (event.type) or event properties.\n",
        "\n",
        "**Custom Events**\n",
        "\n",
        "D3.js also supports custom events, which you can define and trigger using .dispatch() and .on(). Custom events are useful for creating more complex interactions and communication between different parts of your visualization.\n",
        "\n",
        "**Conclusion :**\n",
        "\n",
        "In summary, event handling in D3.js is essential for creating interactive and dynamic visualizations, allowing you to respond to user actions and create engaging data-driven experiences.\n",
        "\n"
      ],
      "metadata": {
        "id": "T6uTTr9XB0M0"
      }
    },
    {
      "cell_type": "code",
      "source": [
        "%%html\n",
        "<!DOCTYPE html>\n",
        "<html lang=\"en\">\n",
        "<head>\n",
        "    <meta charset=\"UTF-8\">\n",
        "    <meta name=\"viewport\" content=\"width=device-width, initial-scale=1.0\">\n",
        "    <title>D3.js Event Handling</title>\n",
        "    <!-- Include D3.js library -->\n",
        "    <script src=\"https://d3js.org/d3.v7.min.js\"></script>\n",
        "</head>\n",
        "<body>\n",
        "    <!-- SVG container for visual elements -->\n",
        "    <svg id=\"svg-container\" width=\"800\" height=\"600\"></svg>\n",
        "    <!-- Include your JavaScript file -->\n",
        "    <script>\n",
        "      // Select the SVG container\n",
        "const svg = d3.select('#svg-container');\n",
        "\n",
        "// Create a circle element\n",
        "const circle = svg.append('circle')\n",
        "    .attr('cx', 100)\n",
        "    .attr('cy', 100)\n",
        "    .attr('r', 50)\n",
        "    .attr('fill', 'blue');\n",
        "\n",
        "// Add a click event handler to the circle\n",
        "circle.on('click', function() {\n",
        "    // Change the circle's color on click\n",
        "    d3.select(this).attr('fill', 'red');\n",
        "});\n",
        "\n",
        "    </script>\n",
        "</body>\n",
        "</html>"
      ],
      "metadata": {
        "colab": {
          "base_uri": "https://localhost:8080/",
          "height": 622
        },
        "id": "hzvNf2yAoGUv",
        "outputId": "44486e72-9f92-49a5-95f1-885da09e99c2"
      },
      "execution_count": 12,
      "outputs": [
        {
          "output_type": "display_data",
          "data": {
            "text/plain": [
              "<IPython.core.display.HTML object>"
            ],
            "text/html": [
              "<!DOCTYPE html>\n",
              "<html lang=\"en\">\n",
              "<head>\n",
              "    <meta charset=\"UTF-8\">\n",
              "    <meta name=\"viewport\" content=\"width=device-width, initial-scale=1.0\">\n",
              "    <title>D3.js Event Handling</title>\n",
              "    <!-- Include D3.js library -->\n",
              "    <script src=\"https://d3js.org/d3.v7.min.js\"></script>\n",
              "</head>\n",
              "<body>\n",
              "    <!-- SVG container for visual elements -->\n",
              "    <svg id=\"svg-container\" width=\"800\" height=\"600\"></svg>\n",
              "    <!-- Include your JavaScript file -->\n",
              "    <script>\n",
              "      // Select the SVG container\n",
              "const svg = d3.select('#svg-container');\n",
              "\n",
              "// Create a circle element\n",
              "const circle = svg.append('circle')\n",
              "    .attr('cx', 100)\n",
              "    .attr('cy', 100)\n",
              "    .attr('r', 50)\n",
              "    .attr('fill', 'blue');\n",
              "\n",
              "// Add a click event handler to the circle\n",
              "circle.on('click', function() {\n",
              "    // Change the circle's color on click\n",
              "    d3.select(this).attr('fill', 'red');\n",
              "});\n",
              "\n",
              "    </script>\n",
              "</body>\n",
              "</html>\n"
            ]
          },
          "metadata": {}
        }
      ]
    }
  ]
}