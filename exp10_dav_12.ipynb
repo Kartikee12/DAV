{
  "nbformat": 4,
  "nbformat_minor": 0,
  "metadata": {
    "colab": {
      "provenance": [],
      "authorship_tag": "ABX9TyNYfIsBdBMkrxGWL7KpKvS/",
      "include_colab_link": true
    },
    "kernelspec": {
      "name": "python3",
      "display_name": "Python 3"
    },
    "language_info": {
      "name": "python"
    }
  },
  "cells": [
    {
      "cell_type": "markdown",
      "metadata": {
        "id": "view-in-github",
        "colab_type": "text"
      },
      "source": [
        "<a href=\"https://colab.research.google.com/github/Kartikee12/DAV/blob/main/exp10_dav_12.ipynb\" target=\"_parent\"><img src=\"https://colab.research.google.com/assets/colab-badge.svg\" alt=\"Open In Colab\"/></a>"
      ]
    },
    {
      "cell_type": "markdown",
      "source": [
        "**Aim :** Event Handling with D3.js\n",
        "\n",
        "**Theory :**\n",
        "\n",
        "**Event Propagation and Handling Multiple Events**\n",
        "\n",
        "\n",
        "\n",
        "*   **Propagation:** Events in D3.js follow the DOM event propagation model, which includes capturing and bubbling phases. You can control event propagation using .stopPropagation() to prevent events from bubbling up the DOM tree.\n",
        "\n",
        "*   **Multiple Events:** You can bind multiple events to the same element or handle multiple events within the same callback function by using conditional logic based on the event type (event.type) or event properties.\n",
        "\n",
        "**Custom Events**\n",
        "\n",
        "D3.js also supports custom events, which you can define and trigger using .dispatch() and .on(). Custom events are useful for creating more complex interactions and communication between different parts of your visualization.\n",
        "\n",
        "**Conclusion :**\n",
        "\n",
        "In summary, event handling in D3.js is essential for creating interactive and dynamic visualizations, allowing you to respond to user actions and create engaging data-driven experiences.\n",
        "\n"
      ],
      "metadata": {
        "id": "T6uTTr9XB0M0"
      }
    },
    {
      "cell_type": "code",
      "source": [
        "%%html\n",
        "<!DOCTYPE html>\n",
        "<html lang=\"en\">\n",
        "<head>\n",
        "<meta charset=\"UTF-8\">\n",
        "<meta name=\"viewport\" content=\"width=device-width, initial-scale=1.0\">\n",
        "<title>D3.js Event Handling</title>\n",
        "<script src=\"https://d3js.org/d3.v7.min.js\"></script>\n",
        "<style>\n",
        "  svg {\n",
        "    border: 1px solid white;\n",
        "  }\n",
        "</style>\n",
        "</head>\n",
        "<body>\n",
        "\n",
        "<h1>D3.js Event Handling Example</h1>\n",
        "\n",
        "<!-- SVG container for visualization -->\n",
        "<svg width=\"400\" height=\"200\"></svg>\n",
        "\n",
        "<script>\n",
        "  // Create an SVG element\n",
        "  var svg = d3.select(\"svg\");\n",
        "\n",
        "  // Create a circle\n",
        "  var circle = svg.append(\"circle\")\n",
        "    .attr(\"cx\", 100)\n",
        "    .attr(\"cy\", 100)\n",
        "    .attr(\"r\", 100)\n",
        "    .attr(\"fill\", \"red\");\n",
        "\n",
        "  // Define hover behavior\n",
        "  circle.on(\"mouseenter\", function() {\n",
        "    d3.select(this).attr(\"fill\", \"yellow\");\n",
        "  })\n",
        "  .on(\"mouseleave\", function() {\n",
        "    d3.select(this).attr(\"fill\", \"red\");\n",
        "  });\n",
        "</script>\n",
        "\n",
        "</body>\n",
        "</html>\n"
      ],
      "metadata": {
        "colab": {
          "base_uri": "https://localhost:8080/",
          "height": 281
        },
        "id": "vkUluFZlmGVS",
        "outputId": "1f422da7-1b5c-405d-cbf4-4ea78fa2d16b"
      },
      "execution_count": 1,
      "outputs": [
        {
          "output_type": "display_data",
          "data": {
            "text/plain": [
              "<IPython.core.display.HTML object>"
            ],
            "text/html": [
              "<!DOCTYPE html>\n",
              "<html lang=\"en\">\n",
              "<head>\n",
              "<meta charset=\"UTF-8\">\n",
              "<meta name=\"viewport\" content=\"width=device-width, initial-scale=1.0\">\n",
              "<title>D3.js Event Handling</title>\n",
              "<script src=\"https://d3js.org/d3.v7.min.js\"></script>\n",
              "<style>\n",
              "  svg {\n",
              "    border: 1px solid white;\n",
              "  }\n",
              "</style>\n",
              "</head>\n",
              "<body>\n",
              "\n",
              "<h1>D3.js Event Handling Example</h1>\n",
              "\n",
              "<!-- SVG container for visualization -->\n",
              "<svg width=\"400\" height=\"200\"></svg>\n",
              "\n",
              "<script>\n",
              "  // Create an SVG element\n",
              "  var svg = d3.select(\"svg\");\n",
              "\n",
              "  // Create a circle\n",
              "  var circle = svg.append(\"circle\")\n",
              "    .attr(\"cx\", 100)\n",
              "    .attr(\"cy\", 100)\n",
              "    .attr(\"r\", 100)\n",
              "    .attr(\"fill\", \"red\");\n",
              "\n",
              "  // Define hover behavior\n",
              "  circle.on(\"mouseenter\", function() {\n",
              "    d3.select(this).attr(\"fill\", \"yellow\");\n",
              "  })\n",
              "  .on(\"mouseleave\", function() {\n",
              "    d3.select(this).attr(\"fill\", \"red\");\n",
              "  });\n",
              "</script>\n",
              "\n",
              "</body>\n",
              "</html>\n"
            ]
          },
          "metadata": {}
        }
      ]
    }
  ]
}