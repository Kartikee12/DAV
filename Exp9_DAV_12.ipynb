{
  "nbformat": 4,
  "nbformat_minor": 0,
  "metadata": {
    "colab": {
      "provenance": [],
      "authorship_tag": "ABX9TyMpPtx2eudUbJ0ig1pwqWRB",
      "include_colab_link": true
    },
    "kernelspec": {
      "name": "python3",
      "display_name": "Python 3"
    },
    "language_info": {
      "name": "python"
    }
  },
  "cells": [
    {
      "cell_type": "markdown",
      "metadata": {
        "id": "view-in-github",
        "colab_type": "text"
      },
      "source": [
        "<a href=\"https://colab.research.google.com/github/Kartikee12/DAV/blob/main/Exp9_DAV_12.ipynb\" target=\"_parent\"><img src=\"https://colab.research.google.com/assets/colab-badge.svg\" alt=\"Open In Colab\"/></a>"
      ]
    },
    {
      "cell_type": "markdown",
      "source": [
        "**AIM:** Create a World Map with D3.js."
      ],
      "metadata": {
        "id": "Nkr8ZMB3lsRl"
      }
    },
    {
      "cell_type": "code",
      "execution_count": 1,
      "metadata": {
        "colab": {
          "base_uri": "https://localhost:8080/",
          "height": 1000
        },
        "id": "8esUD6eelGI5",
        "outputId": "952c2852-4e86-4f1f-8673-3242a79803cf"
      },
      "outputs": [
        {
          "output_type": "display_data",
          "data": {
            "text/plain": [
              "<IPython.core.display.HTML object>"
            ],
            "text/html": [
              "<!DOCTYPE html>\n",
              "<meta charset=\"utf-8\">\n",
              "\n",
              "<!-- Load d3.js -->\n",
              "<script src=\"https://d3js.org/d3.v4.js\"></script>\n",
              "<script src=\"https://d3js.org/d3-scale-chromatic.v1.min.js\"></script>\n",
              "<script src=\"https://d3js.org/d3-geo-projection.v2.min.js\"></script>\n",
              "\n",
              "<!-- Create an element where the map will take place -->\n",
              "<svg id=\"my_dataviz\" width=\"1200\" height=\"1000\"></svg>\n",
              "<script>\n",
              "\n",
              "  // The svg\n",
              "  var svg = d3.select(\"svg\"),\n",
              "      width = +svg.attr(\"width\"),\n",
              "      height = +svg.attr(\"height\");\n",
              "\n",
              "  // Map and projection. Try:  d3.geoAiry() / d3.geoAitoff() / d3.geoArmadillo() / d3.geoAugust() / d3.geoAzimuthalEqualArea() / d3.geoAzimuthalEquidistant() and more\n",
              "  var projection = d3.geoAitoff()\n",
              "      .scale(width / 1.3 / Math.PI)\n",
              "      .translate([width / 2, height / 2])\n",
              "\n",
              "  // Define zoom behavior\n",
              "  var zoom = d3.zoom()\n",
              "      .scaleExtent([1, 8]) // Set the scale extent (minimum and maximum zoom levels)\n",
              "      .on(\"zoom\", zoomed); // Call zoomed function when zoom event occurs\n",
              "\n",
              "  // Apply zoom behavior to SVG\n",
              "  svg.call(zoom);\n",
              "\n",
              "  // Group element to hold map paths\n",
              "  var g = svg.append(\"g\");\n",
              "\n",
              "  // Load external data and boot\n",
              "  d3.json(\"https://raw.githubusercontent.com/holtzy/D3-graph-gallery/master/DATA/world.geojson\", function(data){\n",
              "\n",
              "      // Draw the map\n",
              "      g.selectAll(\"path\")\n",
              "          .data(data.features)\n",
              "          .enter().append(\"path\")\n",
              "              .attr(\"fill\", \"#69b3a2\")\n",
              "              .attr(\"d\", d3.geoPath()\n",
              "                  .projection(projection)\n",
              "              )\n",
              "              .style(\"stroke\", \"#fff\");\n",
              "  });\n",
              "\n",
              "  // Define zoomed function\n",
              "  function zoomed() {\n",
              "    g.attr(\"transform\", d3.event.transform);\n",
              "  }\n",
              "</script>\n"
            ]
          },
          "metadata": {}
        }
      ],
      "source": [
        "%%html\n",
        "<!DOCTYPE html>\n",
        "<meta charset=\"utf-8\">\n",
        "\n",
        "<!-- Load d3.js -->\n",
        "<script src=\"https://d3js.org/d3.v4.js\"></script>\n",
        "<script src=\"https://d3js.org/d3-scale-chromatic.v1.min.js\"></script>\n",
        "<script src=\"https://d3js.org/d3-geo-projection.v2.min.js\"></script>\n",
        "\n",
        "<!-- Create an element where the map will take place -->\n",
        "<svg id=\"my_dataviz\" width=\"1200\" height=\"1000\"></svg>\n",
        "<script>\n",
        "\n",
        "  // The svg\n",
        "  var svg = d3.select(\"svg\"),\n",
        "      width = +svg.attr(\"width\"),\n",
        "      height = +svg.attr(\"height\");\n",
        "\n",
        "  // Map and projection. Try:  d3.geoAiry() / d3.geoAitoff() / d3.geoArmadillo() / d3.geoAugust() / d3.geoAzimuthalEqualArea() / d3.geoAzimuthalEquidistant() and more\n",
        "  var projection = d3.geoAitoff()\n",
        "      .scale(width / 1.3 / Math.PI)\n",
        "      .translate([width / 2, height / 2])\n",
        "\n",
        "  // Define zoom behavior\n",
        "  var zoom = d3.zoom()\n",
        "      .scaleExtent([1, 8]) // Set the scale extent (minimum and maximum zoom levels)\n",
        "      .on(\"zoom\", zoomed); // Call zoomed function when zoom event occurs\n",
        "\n",
        "  // Apply zoom behavior to SVG\n",
        "  svg.call(zoom);\n",
        "\n",
        "  // Group element to hold map paths\n",
        "  var g = svg.append(\"g\");\n",
        "\n",
        "  // Load external data and boot\n",
        "  d3.json(\"https://raw.githubusercontent.com/holtzy/D3-graph-gallery/master/DATA/world.geojson\", function(data){\n",
        "\n",
        "      // Draw the map\n",
        "      g.selectAll(\"path\")\n",
        "          .data(data.features)\n",
        "          .enter().append(\"path\")\n",
        "              .attr(\"fill\", \"#69b3a2\")\n",
        "              .attr(\"d\", d3.geoPath()\n",
        "                  .projection(projection)\n",
        "              )\n",
        "              .style(\"stroke\", \"#fff\");\n",
        "  });\n",
        "\n",
        "  // Define zoomed function\n",
        "  function zoomed() {\n",
        "    g.attr(\"transform\", d3.event.transform);\n",
        "  }\n",
        "</script>\n"
      ]
    },
    {
      "cell_type": "code",
      "source": [
        "!pip install folium\n"
      ],
      "metadata": {
        "id": "9kB-Oi_4lahr"
      },
      "execution_count": null,
      "outputs": []
    },
    {
      "cell_type": "code",
      "source": [
        "import folium\n",
        "\n",
        "# Create a folium map centered around the world\n",
        "world_map = folium.Map(location=[0, 0], zoom_start=2)\n",
        "\n",
        "# Display the map\n",
        "world_map\n"
      ],
      "metadata": {
        "colab": {
          "base_uri": "https://localhost:8080/",
          "height": 495
        },
        "id": "j3wN4HbelczA",
        "outputId": "24878f48-fe55-4dc3-9fcc-04c7f76d4cec"
      },
      "execution_count": 2,
      "outputs": [
        {
          "output_type": "execute_result",
          "data": {
            "text/plain": [
              "<folium.folium.Map at 0x78fee98a20b0>"
            ],
            "text/html": [
              "<div style=\"width:100%;\"><div style=\"position:relative;width:100%;height:0;padding-bottom:60%;\"><span style=\"color:#565656\">Make this Notebook Trusted to load map: File -> Trust Notebook</span><iframe srcdoc=\"&lt;!DOCTYPE html&gt;\n",
              "&lt;html&gt;\n",
              "&lt;head&gt;\n",
              "    \n",
              "    &lt;meta http-equiv=&quot;content-type&quot; content=&quot;text/html; charset=UTF-8&quot; /&gt;\n",
              "    \n",
              "        &lt;script&gt;\n",
              "            L_NO_TOUCH = false;\n",
              "            L_DISABLE_3D = false;\n",
              "        &lt;/script&gt;\n",
              "    \n",
              "    &lt;style&gt;html, body {width: 100%;height: 100%;margin: 0;padding: 0;}&lt;/style&gt;\n",
              "    &lt;style&gt;#map {position:absolute;top:0;bottom:0;right:0;left:0;}&lt;/style&gt;\n",
              "    &lt;script src=&quot;https://cdn.jsdelivr.net/npm/leaflet@1.9.3/dist/leaflet.js&quot;&gt;&lt;/script&gt;\n",
              "    &lt;script src=&quot;https://code.jquery.com/jquery-1.12.4.min.js&quot;&gt;&lt;/script&gt;\n",
              "    &lt;script src=&quot;https://cdn.jsdelivr.net/npm/bootstrap@5.2.2/dist/js/bootstrap.bundle.min.js&quot;&gt;&lt;/script&gt;\n",
              "    &lt;script src=&quot;https://cdnjs.cloudflare.com/ajax/libs/Leaflet.awesome-markers/2.0.2/leaflet.awesome-markers.js&quot;&gt;&lt;/script&gt;\n",
              "    &lt;link rel=&quot;stylesheet&quot; href=&quot;https://cdn.jsdelivr.net/npm/leaflet@1.9.3/dist/leaflet.css&quot;/&gt;\n",
              "    &lt;link rel=&quot;stylesheet&quot; href=&quot;https://cdn.jsdelivr.net/npm/bootstrap@5.2.2/dist/css/bootstrap.min.css&quot;/&gt;\n",
              "    &lt;link rel=&quot;stylesheet&quot; href=&quot;https://netdna.bootstrapcdn.com/bootstrap/3.0.0/css/bootstrap.min.css&quot;/&gt;\n",
              "    &lt;link rel=&quot;stylesheet&quot; href=&quot;https://cdn.jsdelivr.net/npm/@fortawesome/fontawesome-free@6.2.0/css/all.min.css&quot;/&gt;\n",
              "    &lt;link rel=&quot;stylesheet&quot; href=&quot;https://cdnjs.cloudflare.com/ajax/libs/Leaflet.awesome-markers/2.0.2/leaflet.awesome-markers.css&quot;/&gt;\n",
              "    &lt;link rel=&quot;stylesheet&quot; href=&quot;https://cdn.jsdelivr.net/gh/python-visualization/folium/folium/templates/leaflet.awesome.rotate.min.css&quot;/&gt;\n",
              "    \n",
              "            &lt;meta name=&quot;viewport&quot; content=&quot;width=device-width,\n",
              "                initial-scale=1.0, maximum-scale=1.0, user-scalable=no&quot; /&gt;\n",
              "            &lt;style&gt;\n",
              "                #map_2277814e6f8a82fdedba7addb1c92351 {\n",
              "                    position: relative;\n",
              "                    width: 100.0%;\n",
              "                    height: 100.0%;\n",
              "                    left: 0.0%;\n",
              "                    top: 0.0%;\n",
              "                }\n",
              "                .leaflet-container { font-size: 1rem; }\n",
              "            &lt;/style&gt;\n",
              "        \n",
              "&lt;/head&gt;\n",
              "&lt;body&gt;\n",
              "    \n",
              "    \n",
              "            &lt;div class=&quot;folium-map&quot; id=&quot;map_2277814e6f8a82fdedba7addb1c92351&quot; &gt;&lt;/div&gt;\n",
              "        \n",
              "&lt;/body&gt;\n",
              "&lt;script&gt;\n",
              "    \n",
              "    \n",
              "            var map_2277814e6f8a82fdedba7addb1c92351 = L.map(\n",
              "                &quot;map_2277814e6f8a82fdedba7addb1c92351&quot;,\n",
              "                {\n",
              "                    center: [0.0, 0.0],\n",
              "                    crs: L.CRS.EPSG3857,\n",
              "                    zoom: 2,\n",
              "                    zoomControl: true,\n",
              "                    preferCanvas: false,\n",
              "                }\n",
              "            );\n",
              "\n",
              "            \n",
              "\n",
              "        \n",
              "    \n",
              "            var tile_layer_9025c48d8e0c07620f42908400f8389f = L.tileLayer(\n",
              "                &quot;https://{s}.tile.openstreetmap.org/{z}/{x}/{y}.png&quot;,\n",
              "                {&quot;attribution&quot;: &quot;Data by \\u0026copy; \\u003ca target=\\&quot;_blank\\&quot; href=\\&quot;http://openstreetmap.org\\&quot;\\u003eOpenStreetMap\\u003c/a\\u003e, under \\u003ca target=\\&quot;_blank\\&quot; href=\\&quot;http://www.openstreetmap.org/copyright\\&quot;\\u003eODbL\\u003c/a\\u003e.&quot;, &quot;detectRetina&quot;: false, &quot;maxNativeZoom&quot;: 18, &quot;maxZoom&quot;: 18, &quot;minZoom&quot;: 0, &quot;noWrap&quot;: false, &quot;opacity&quot;: 1, &quot;subdomains&quot;: &quot;abc&quot;, &quot;tms&quot;: false}\n",
              "            ).addTo(map_2277814e6f8a82fdedba7addb1c92351);\n",
              "        \n",
              "&lt;/script&gt;\n",
              "&lt;/html&gt;\" style=\"position:absolute;width:100%;height:100%;left:0;top:0;border:none !important;\" allowfullscreen webkitallowfullscreen mozallowfullscreen></iframe></div></div>"
            ]
          },
          "metadata": {},
          "execution_count": 2
        }
      ]
    }
  ]
}